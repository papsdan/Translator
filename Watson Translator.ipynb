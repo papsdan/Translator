{
 "cells": [
  {
   "cell_type": "code",
   "execution_count": 1,
   "metadata": {},
   "outputs": [],
   "source": [
    "import requests\n",
    "import json\n",
    "from ibm_watson import LanguageTranslatorV3\n",
    "from ibm_cloud_sdk_core.authenticators import IAMAuthenticator"
   ]
  },
  {
   "cell_type": "code",
   "execution_count": 2,
   "metadata": {},
   "outputs": [],
   "source": [
    "API_KEY = 'rVqOvohYN_mmXqrWHl-Yf8snSa-BAn-MX3EAA3b_7rmT'\n",
    "URL = 'https://gateway-lon.watsonplatform.net/language-translator/api'"
   ]
  },
  {
   "cell_type": "code",
   "execution_count": 3,
   "metadata": {},
   "outputs": [],
   "source": [
    "authenticator = IAMAuthenticator(API_KEY)\n",
    "language_translator = LanguageTranslatorV3(\n",
    "    version='2018-05-01',\n",
    "    authenticator=authenticator\n",
    ")\n",
    "\n",
    "language_translator.set_service_url(URL)"
   ]
  },
  {
   "cell_type": "code",
   "execution_count": 12,
   "metadata": {},
   "outputs": [],
   "source": [
    "def get_language_mapping(language_translator):\n",
    "    languages = language_translator.list_identifiable_languages().get_result()\n",
    "    lang_list = languages['languages']\n",
    "    lang_dict = {}\n",
    "    for i in lang_list:\n",
    "        code = i['language']\n",
    "        language = i['name']\n",
    "        lang_dict[language] = code\n",
    "    return lang_dict"
   ]
  },
  {
   "cell_type": "code",
   "execution_count": 13,
   "metadata": {},
   "outputs": [],
   "source": [
    "def get_model_id(mapper,source,target):\n",
    "    try:\n",
    "        return mapper[source]+'-'+mapper[target]\n",
    "    except KeyError:\n",
    "        print('The source or target language cannot be identified')\n",
    "        "
   ]
  },
  {
   "cell_type": "code",
   "execution_count": 14,
   "metadata": {},
   "outputs": [],
   "source": [
    "def translate(language_translator, source, target, text):\n",
    "    mapping = get_language_mapping(language_translator)\n",
    "    model_id = get_model_id(lang_dict,source,target)\n",
    "    translation = language_translator.translate(\n",
    "        text=text,\n",
    "        model_id=model_id).get_result()\n",
    "    \n",
    "    return translation['translations'][0]['translation']"
   ]
  },
  {
   "cell_type": "code",
   "execution_count": 15,
   "metadata": {},
   "outputs": [],
   "source": [
    "lang_dict = get_language_mapping(language_translator)"
   ]
  },
  {
   "cell_type": "code",
   "execution_count": 16,
   "metadata": {},
   "outputs": [
    {
     "name": "stdin",
     "output_type": "stream",
     "text": [
      "Enter text you would like to translate:  How are you\n",
      "Enter the source language to translate from: english\n",
      "Enter the source language to translate to: french\n"
     ]
    },
    {
     "data": {
      "text/plain": [
       "'Comment vous êtes'"
      ]
     },
     "execution_count": 16,
     "metadata": {},
     "output_type": "execute_result"
    }
   ],
   "source": [
    "text = input('Enter text you would like to translate: ')\n",
    "source = input('Enter the source language to translate from:').title()\n",
    "target = input('Enter the source language to translate to:').title()\n",
    "translate(language_translator, source, target, text)"
   ]
  }
 ],
 "metadata": {
  "kernelspec": {
   "display_name": "Python 3",
   "language": "python",
   "name": "python3"
  },
  "language_info": {
   "codemirror_mode": {
    "name": "ipython",
    "version": 3
   },
   "file_extension": ".py",
   "mimetype": "text/x-python",
   "name": "python",
   "nbconvert_exporter": "python",
   "pygments_lexer": "ipython3",
   "version": "3.7.3"
  }
 },
 "nbformat": 4,
 "nbformat_minor": 2
}
